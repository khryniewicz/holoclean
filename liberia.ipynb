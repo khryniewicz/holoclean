{
 "cells": [
  {
   "cell_type": "code",
   "execution_count": null,
   "metadata": {},
   "outputs": [],
   "source": [
    "import holoclean\n",
    "from detect import *\n",
    "from repair.featurize import *"
   ]
  },
  {
   "cell_type": "markdown",
   "metadata": {},
   "source": [
    "## 1. Setup\n",
    "Setup holoclean session"
   ]
  },
  {
   "cell_type": "code",
   "execution_count": null,
   "metadata": {},
   "outputs": [],
   "source": [
    "hc = holoclean.HoloClean(\n",
    "    db_name='holo',\n",
    "    domain_thresh_1=0.0,\n",
    "    domain_thresh_2=0.0,\n",
    "    weak_label_thresh=0.99,\n",
    "    max_domain=10000,\n",
    "    cor_strength=0.6,\n",
    "    nb_cor_strength=0.8,\n",
    "    weight_decay=0.01,\n",
    "    learning_rate=0.001,\n",
    "    threads=1,\n",
    "    batch_size=1,\n",
    "    verbose=True,\n",
    "    timeout=3 * 60000,\n",
    "    print_fw=True,\n",
    ").session"
   ]
  },
  {
   "cell_type": "markdown",
   "metadata": {},
   "source": [
    "## 2. Load training data and denial constraints\n",
    "\n",
    "Load data"
   ]
  },
  {
   "cell_type": "code",
   "execution_count": null,
   "metadata": {},
   "outputs": [],
   "source": [
    "hc.load_data(\"liberia\", \"testdata/liberia.csv\")"
   ]
  },
  {
   "cell_type": "markdown",
   "metadata": {},
   "source": [
    "Constrains"
   ]
  },
  {
   "cell_type": "markdown",
   "metadata": {},
   "source": [
    "constrain_path = \"testdata/liberia_constraints.txt\""
   ]
  },
  {
   "cell_type": "markdown",
   "metadata": {},
   "source": [
    "!cat $constrain_path"
   ]
  },
  {
   "cell_type": "markdown",
   "metadata": {},
   "source": [
    "hc.load_dcs(constrain_path)\n",
    "hc.ds.set_constraints(hc.get_dcs())"
   ]
  },
  {
   "cell_type": "markdown",
   "metadata": {},
   "source": [
    "## 3. Detectors"
   ]
  },
  {
   "cell_type": "code",
   "execution_count": null,
   "metadata": {},
   "outputs": [],
   "source": [
    "detectors = [NullDetector()]\n",
    "hc.detect_errors(detectors)"
   ]
  },
  {
   "cell_type": "markdown",
   "metadata": {},
   "source": [
    "## 4. Repair"
   ]
  },
  {
   "cell_type": "code",
   "execution_count": null,
   "metadata": {},
   "outputs": [],
   "source": [
    "hc.generate_domain()"
   ]
  },
  {
   "cell_type": "code",
   "execution_count": null,
   "metadata": {},
   "outputs": [],
   "source": [
    "hc.run_estimator()"
   ]
  },
  {
   "cell_type": "code",
   "execution_count": null,
   "metadata": {},
   "outputs": [],
   "source": [
    "featurizers = [FreqFeaturizer(), OccurAttrFeaturizer()]\n",
    "hc.repair_errors(featurizers)"
   ]
  }
 ],
 "metadata": {
  "kernelspec": {
   "display_name": "Python 3",
   "language": "python",
   "name": "python3"
  },
  "language_info": {
   "codemirror_mode": {
    "name": "ipython",
    "version": 3
   },
   "file_extension": ".py",
   "mimetype": "text/x-python",
   "name": "python",
   "nbconvert_exporter": "python",
   "pygments_lexer": "ipython3",
   "version": "3.6.10"
  }
 },
 "nbformat": 4,
 "nbformat_minor": 4
}
